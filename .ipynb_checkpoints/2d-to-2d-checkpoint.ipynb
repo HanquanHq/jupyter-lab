{
 "cells": [
  {
   "cell_type": "code",
   "execution_count": 11,
   "id": "3c0bb83e-2b73-45fc-8eb7-d6fdeda5f992",
   "metadata": {},
   "outputs": [],
   "source": [
    "import cv2 as cv\n",
    "\n",
    "# 读取图片\n",
    "img1 = cv.imread('1.png')\n",
    "img2 = cv.imread('2.png')\n",
    "\n",
    "# 初始化ORB\n",
    "orb = cv.ORB_create()\n",
    "\n",
    "# 寻找关键点\n",
    "kp1 = orb.detect(img1)\n",
    "kp2 = orb.detect(img2)\n",
    "\n",
    "# 计算描述符\n",
    "kp1, des1 = orb.compute(img1, kp1)\n",
    "kp2, des2 = orb.compute(img2, kp2)\n",
    "\n",
    "# 画出关键点\n",
    "outimg1 = cv.drawKeypoints(img1, keypoints=kp1, outImage=None)\n",
    "outimg2 = cv.drawKeypoints(img2, keypoints=kp2, outImage=None)\n",
    "\n",
    "# 显示关键点\n",
    "# import numpy as np\n",
    "# outimg3 = np.hstack([outimg1, outimg2])\n",
    "# cv.imshow(\"Key Points\", outimg3)\n",
    "# cv.waitKey(0)\n",
    "\n",
    "# 初始化 BFMatcher\n",
    "bf = cv.BFMatcher(cv.NORM_HAMMING)\n",
    "\n",
    "# 对描述子进行匹配\n",
    "matches = bf.match(des1, des2)\n",
    "\n",
    "# 计算最大距离和最小距离\n",
    "min_distance = matches[0].distance\n",
    "max_distance = matches[0].distance\n",
    "for x in matches:\n",
    "    if x.distance < min_distance:\n",
    "        min_distance = x.distance\n",
    "    if x.distance > max_distance:\n",
    "        max_distance = x.distance\n",
    "\n",
    "# 筛选匹配点\n",
    "'''\n",
    "    当描述子之间的距离大于两倍的最小距离时，认为匹配有误。\n",
    "    但有时候最小距离会非常小，所以设置一个经验值30作为下限。\n",
    "'''\n",
    "good_match = []\n",
    "for x in matches:\n",
    "    if x.distance <= max(2 * min_distance, 30):\n",
    "        good_match.append(x)\n",
    "        # print(x.distance)\n",
    "\n",
    "# 绘制匹配结果\n",
    "# extract points\n",
    "pts1 = []\n",
    "pts2 = []\n",
    "for i in range(0,len(good_match)):\n",
    "    pts1.append(kp1[good_match[i].queryIdx].pt)\n",
    "    pts2.append(kp2[good_match[i].queryIdx].pt)\n",
    "#     print(kp1[good_match[i].queryIdx].pt)\n",
    "#     print(kp2[good_match[i].queryIdx].pt)\n",
    "#     print(\"key point\",i)\n",
    "\n",
    "# 显示图片\n",
    "# outimage = cv.drawMatches(img1, kp1, img2, kp2, match, outImg=None)\n",
    "# cv.imshow(\"Match Result\", outimage)\n",
    "# cv.waitKey(0)"
   ]
  },
  {
   "cell_type": "code",
   "execution_count": 12,
   "id": "959eaceb-f65a-4990-8659-6f0848d3f0a2",
   "metadata": {},
   "outputs": [
    {
     "data": {
      "text/plain": [
       "[(245.0, 211.0),\n",
       " (46.0, 270.0),\n",
       " (420.0, 169.0),\n",
       " (143.0, 175.0),\n",
       " (81.0, 312.0),\n",
       " (527.0, 241.0),\n",
       " (318.0, 92.0),\n",
       " (76.0, 290.0),\n",
       " (373.0, 217.0),\n",
       " (295.0, 225.0),\n",
       " (79.0, 307.0),\n",
       " (540.0, 244.0),\n",
       " (207.0, 288.0),\n",
       " (49.0, 267.0),\n",
       " (244.8000030517578, 210.00001525878906),\n",
       " (428.4000244140625, 169.20001220703125),\n",
       " (318.0, 93.60000610351562),\n",
       " (331.20001220703125, 94.80000305175781),\n",
       " (526.800048828125, 241.20001220703125),\n",
       " (63.60000228881836, 276.0),\n",
       " (372.0, 217.20001220703125),\n",
       " (295.20001220703125, 225.60000610351562),\n",
       " (530.4000244140625, 241.20001220703125),\n",
       " (420.0000305175781, 168.0),\n",
       " (76.80000305175781, 292.8000183105469),\n",
       " (206.40000915527344, 288.0),\n",
       " (244.8000030517578, 208.8000030517578),\n",
       " (529.9200439453125, 247.6800079345703),\n",
       " (427.6800231933594, 168.48001098632812),\n",
       " (420.4800109863281, 168.48001098632812),\n",
       " (371.52001953125, 216.00001525878906),\n",
       " (295.20001220703125, 224.6400146484375),\n",
       " (205.92001342773438, 288.0),\n",
       " (144.0, 175.6800079345703),\n",
       " (67.68000030517578, 306.7200012207031),\n",
       " (530.4960327148438, 248.83203125),\n",
       " (532.2240600585938, 241.92002868652344),\n",
       " (316.2240295410156, 88.12800598144531),\n",
       " (371.5200500488281, 216.00001525878906),\n",
       " (426.8160400390625, 169.34400939941406),\n",
       " (419.904052734375, 167.6160125732422),\n",
       " (319.6800231933594, 93.31201171875),\n",
       " (58.75200653076172, 278.2080383300781),\n",
       " (67.39200592041016, 274.75201416015625),\n",
       " (245.3760223388672, 210.81602478027344),\n",
       " (205.63201904296875, 286.8480224609375),\n",
       " (222.91201782226562, 260.92803955078125),\n",
       " (295.488037109375, 224.6400146484375),\n",
       " (157.24801635742188, 231.55201721191406),\n",
       " (246.75843811035156, 209.43362426757812),\n",
       " (371.1744384765625, 215.65443420410156),\n",
       " (157.5936279296875, 230.1696319580078),\n",
       " (425.08807373046875, 167.9616241455078),\n",
       " (223.94883728027344, 261.2736511230469),\n",
       " (161.74082946777344, 236.3904266357422),\n",
       " (207.3600311279297, 286.1568298339844),\n",
       " (370.759765625, 213.99557495117188),\n",
       " (246.34373474121094, 209.01893615722656),\n",
       " (146.8109130859375, 233.90213012695312),\n",
       " (296.1101379394531, 223.9488525390625),\n",
       " (382.2060546875, 352.34619140625),\n",
       " (161.24317932128906, 238.8787841796875),\n",
       " (370.2621154785156, 214.99090576171875),\n",
       " (247.83673095703125, 209.01893615722656),\n",
       " (223.9488525390625, 185.1310577392578),\n",
       " (220.96287536621094, 176.173095703125),\n",
       " (391.16400146484375, 358.31817626953125),\n",
       " (298.5984802246094, 226.93484497070312),\n",
       " (397.7331848144531, 354.7350158691406),\n",
       " (386.983642578125, 354.7350158691406),\n",
       " (247.2395477294922, 207.82455444335938),\n",
       " (369.0677185058594, 211.40773010253906),\n",
       " (297.4040832519531, 225.74046325683594),\n",
       " (150.49363708496094, 229.32363891601562),\n",
       " (161.24317932128906, 236.49000549316406),\n",
       " (290.23773193359375, 240.07318115234375),\n",
       " (207.82455444335938, 286.654541015625),\n",
       " (383.40045166015625, 326.0695495605469),\n",
       " (351.1518249511719, 229.32363891601562)]"
      ]
     },
     "execution_count": 12,
     "metadata": {},
     "output_type": "execute_result"
    }
   ],
   "source": [
    "pts1"
   ]
  },
  {
   "cell_type": "code",
   "execution_count": 16,
   "id": "54a6485e-8b42-453f-83cc-4354a627d93c",
   "metadata": {},
   "outputs": [],
   "source": [
    "import numpy as np\n",
    "pts1 = np.asarray(pts1)\n",
    "pts2 = np.asarray(pts2)"
   ]
  },
  {
   "cell_type": "markdown",
   "id": "04c4df10-b1ba-4d7e-82eb-c1c15405faa9",
   "metadata": {},
   "source": [
    "https://www.programcreek.com/python/example/89336/cv2.findFundamentalMat"
   ]
  },
  {
   "cell_type": "code",
   "execution_count": 17,
   "id": "daea5f3b-41fd-4786-bb65-a4c06275af9e",
   "metadata": {},
   "outputs": [],
   "source": [
    "F, mask = cv.findFundamentalMat(pts1,pts2,cv.FM_8POINT)"
   ]
  },
  {
   "cell_type": "code",
   "execution_count": 21,
   "id": "ad3b63ba-92a0-493a-ba6f-1263dff71c81",
   "metadata": {
    "scrolled": true,
    "tags": []
   },
   "outputs": [
    {
     "name": "stdout",
     "output_type": "stream",
     "text": [
      "[[ 2.68794426e-08  2.70675730e-06 -7.84851569e-04]\n",
      " [ 9.78230462e-07  1.38564198e-05 -4.06369170e-03]\n",
      " [-2.42035237e-04 -3.40956361e-03  1.00000000e+00]]\n"
     ]
    }
   ],
   "source": [
    "print(F)"
   ]
  },
  {
   "cell_type": "markdown",
   "id": "077facbd-cd48-409f-acc2-ba04e2c38d06",
   "metadata": {},
   "source": [
    "##### 官方文档\n",
    "https://docs.opencv.org/3.4/d9/d0c/group__calib3d.html#ga0b166d41926a7793ab1c351dbaa9ffd4\n",
    "\n",
    "##### 字段定义\n",
    "```\n",
    "Mat cv::findEssentialMat\t(\tInputArray \tpoints1,\n",
    "InputArray \tpoints2,\n",
    "InputArray \tcameraMatrix,\n",
    "int \tmethod,\n",
    "double \tprob,\n",
    "double \tthreshold,\n",
    "int \tmaxIters,\n",
    "OutputArray \tmask = noArray() \n",
    ")\t\t\n",
    "```"
   ]
  },
  {
   "cell_type": "code",
   "execution_count": 36,
   "id": "3067fec3-968a-46c6-a85e-146b480febf4",
   "metadata": {},
   "outputs": [],
   "source": [
    "cameraMatrix = cv.UMat(np.array( [[520.9, 0, 325.1], [0, 521.0, 249.7], [0, 0, 1]], dtype=np.float32))"
   ]
  },
  {
   "cell_type": "code",
   "execution_count": 37,
   "id": "ff3bd135-253a-4781-bec0-e38de1d5073f",
   "metadata": {},
   "outputs": [
    {
     "data": {
      "text/plain": [
       "(3, 3)"
      ]
     },
     "execution_count": 37,
     "metadata": {},
     "output_type": "execute_result"
    }
   ],
   "source": [
    "cameraMatrix.get().shape"
   ]
  },
  {
   "cell_type": "code",
   "execution_count": 38,
   "id": "7468cc6f-4c98-4aa1-89f8-3e5f0f49e71d",
   "metadata": {},
   "outputs": [],
   "source": [
    "E, mask = cv.findEssentialMat(pts1, pts2, cameraMatrix=cameraMatrix, method=cv.RANSAC, prob=0.999, threshold=3.0)"
   ]
  },
  {
   "cell_type": "code",
   "execution_count": 39,
   "id": "5d90f995-eca9-4164-a279-8726b49dc9a3",
   "metadata": {},
   "outputs": [
    {
     "name": "stdout",
     "output_type": "stream",
     "text": [
      "[[-0.11630271  0.65109681  0.03156172]\n",
      " [-0.68232223 -0.13638495 -0.11431474]\n",
      " [-0.09809678  0.23385379  0.00275176]]\n"
     ]
    }
   ],
   "source": [
    "print(E)"
   ]
  },
  {
   "cell_type": "code",
   "execution_count": 26,
   "id": "abb45868-b6cc-4f18-85c9-4613642945af",
   "metadata": {},
   "outputs": [],
   "source": []
  },
  {
   "cell_type": "code",
   "execution_count": 40,
   "id": "8dfcbc0a-725f-4570-b3c5-14fd95b8e31b",
   "metadata": {},
   "outputs": [
    {
     "name": "stdout",
     "output_type": "stream",
     "text": [
      "<UMat 0x7f0f1e9eebd0>\n"
     ]
    }
   ],
   "source": [
    "print(mask)"
   ]
  },
  {
   "cell_type": "code",
   "execution_count": 23,
   "id": "df5158d3-f9a3-436b-98f7-55189e340223",
   "metadata": {},
   "outputs": [
    {
     "name": "stdout",
     "output_type": "stream",
     "text": [
      "[[ 2.22996106e-04  2.36241305e-03 -5.99535628e-01]\n",
      " [ 1.89703070e-03 -4.16453010e-03  3.74884823e-01]\n",
      " [-4.27071622e-01  5.63548435e-01  3.84945975e-03]]\n"
     ]
    }
   ],
   "source": [
    "print(E)"
   ]
  },
  {
   "cell_type": "code",
   "execution_count": 42,
   "id": "c0c7fe5d-7338-451a-b14e-e0895fcc8619",
   "metadata": {},
   "outputs": [],
   "source": [
    "# pts_l - set of n 2d points in left image. nx2 numpy float array\n",
    "# pts_r - set of n 2d points in right image. nx2 numpy float array\n",
    "# K_l - Left Camera matrix. 3x3 numpy float array -> cameraMatrix\n",
    "# K_r - Right Camera matrix. 3x3 numpy float array -> cameraMatrix\n",
    "\n",
    "# Normalize for Esential Matrix calaculation\n",
    "# pts_l_norm = cv2.undistortPoints(np.expand_dims(pts_l, axis=1), cameraMatrix=K_l, distCoeffs=None)\n",
    "# pts_r_norm = cv2.undistortPoints(np.expand_dims(pts_r, axis=1), cameraMatrix=K_r, distCoeffs=None)\n",
    "\n",
    "points, R, t, mask = cv.recoverPose(E, pts1, pts2)\n"
   ]
  },
  {
   "cell_type": "code",
   "execution_count": 43,
   "id": "526a029f-948a-4154-9e45-9342f7f6cdc2",
   "metadata": {},
   "outputs": [
    {
     "name": "stdout",
     "output_type": "stream",
     "text": [
      "[[ 0.96378669  0.18162262 -0.19526503]\n",
      " [-0.19103005  0.98111597 -0.03031456]\n",
      " [ 0.18607183  0.06651826  0.9802819 ]]\n"
     ]
    }
   ],
   "source": [
    "print(R)"
   ]
  },
  {
   "cell_type": "code",
   "execution_count": 44,
   "id": "0c909221-d837-431c-b175-a2de625b421a",
   "metadata": {},
   "outputs": [
    {
     "name": "stdout",
     "output_type": "stream",
     "text": [
      "[[ 0.35085748]\n",
      " [ 0.07439973]\n",
      " [-0.93346865]]\n"
     ]
    }
   ],
   "source": [
    "print(t)"
   ]
  },
  {
   "cell_type": "code",
   "execution_count": null,
   "id": "873e9226-8d1f-41be-b166-9d7f8cf3582b",
   "metadata": {},
   "outputs": [],
   "source": [
    "M_r = np.hstack((R, t))\n",
    "M_l = np.hstack((np.eye(3, 3), np.zeros((3, 1))))\n",
    "\n",
    "# P_l = np.dot(K_l,  M_l)\n",
    "P_l = np.dot(cameraMatrix,  M_l)\n",
    "P_r = np.dot(cameraMatrix,  M_r)\n",
    "\n",
    "point_4d_hom = cv.triangulatePoints(P_l, P_r, np.expand_dims(pts_l, axis=1), np.expand_dims(pts_r, axis=1))\n",
    "point_4d = point_4d_hom / np.tile(point_4d_hom[-1, :], (4, 1))\n",
    "point_3d = point_4d[:3, :].T"
   ]
  }
 ],
 "metadata": {
  "kernelspec": {
   "display_name": "Python 3",
   "language": "python",
   "name": "python3"
  },
  "language_info": {
   "codemirror_mode": {
    "name": "ipython",
    "version": 3
   },
   "file_extension": ".py",
   "mimetype": "text/x-python",
   "name": "python",
   "nbconvert_exporter": "python",
   "pygments_lexer": "ipython3",
   "version": "3.8.8"
  }
 },
 "nbformat": 4,
 "nbformat_minor": 5
}
